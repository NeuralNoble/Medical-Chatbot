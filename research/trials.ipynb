{
 "cells": [
  {
   "cell_type": "code",
   "id": "initial_id",
   "metadata": {
    "collapsed": true,
    "ExecuteTime": {
     "end_time": "2024-12-09T13:40:50.337258Z",
     "start_time": "2024-12-09T13:40:50.329977Z"
    }
   },
   "source": "print(\"hello\")",
   "outputs": [
    {
     "name": "stdout",
     "output_type": "stream",
     "text": [
      "hello\n"
     ]
    }
   ],
   "execution_count": 1
  },
  {
   "metadata": {
    "ExecuteTime": {
     "end_time": "2024-12-09T13:40:54.288807Z",
     "start_time": "2024-12-09T13:40:54.283268Z"
    }
   },
   "cell_type": "code",
   "source": "%pwd",
   "id": "ef3d07c9f2a58557",
   "outputs": [
    {
     "data": {
      "text/plain": [
       "'/Users/amananand/PycharmProjects/Medical Chatbot/research'"
      ]
     },
     "execution_count": 2,
     "metadata": {},
     "output_type": "execute_result"
    }
   ],
   "execution_count": 2
  },
  {
   "metadata": {
    "ExecuteTime": {
     "end_time": "2024-12-09T13:41:29.455253Z",
     "start_time": "2024-12-09T13:41:29.448929Z"
    }
   },
   "cell_type": "code",
   "source": [
    "import os \n",
    "os.chdir(\"../\")"
   ],
   "id": "d705e6619a85673",
   "outputs": [],
   "execution_count": 3
  },
  {
   "metadata": {
    "ExecuteTime": {
     "end_time": "2024-12-09T13:41:37.311248Z",
     "start_time": "2024-12-09T13:41:37.302191Z"
    }
   },
   "cell_type": "code",
   "source": "%pwd",
   "id": "6c481c1ec50403bc",
   "outputs": [
    {
     "data": {
      "text/plain": [
       "'/Users/amananand/PycharmProjects/Medical Chatbot'"
      ]
     },
     "execution_count": 4,
     "metadata": {},
     "output_type": "execute_result"
    }
   ],
   "execution_count": 4
  },
  {
   "metadata": {
    "ExecuteTime": {
     "end_time": "2024-12-09T13:46:12.447338Z",
     "start_time": "2024-12-09T13:46:12.444517Z"
    }
   },
   "cell_type": "code",
   "source": [
    "from langchain.document_loaders import PyPDFLoader , DirectoryLoader\n",
    "from langchain.text_splitter import RecursiveCharacterTextSplitter"
   ],
   "id": "1332a36ac6d697d3",
   "outputs": [],
   "execution_count": 10
  },
  {
   "metadata": {
    "ExecuteTime": {
     "end_time": "2024-12-09T13:46:13.490784Z",
     "start_time": "2024-12-09T13:46:13.487276Z"
    }
   },
   "cell_type": "code",
   "source": [
    "#Extract the Data from pdf file\n",
    "def load_pdf_file(data):\n",
    "    loader = DirectoryLoader(data,\n",
    "                             glob=\"*.pdf\",\n",
    "                             loader_cls=PyPDFLoader)\n",
    "    \n",
    "    document = loader.load()\n",
    "    return document\n",
    "    "
   ],
   "id": "86ed4d934c17ca9",
   "outputs": [],
   "execution_count": 11
  },
  {
   "metadata": {
    "ExecuteTime": {
     "end_time": "2024-12-09T13:47:14.489538Z",
     "start_time": "2024-12-09T13:46:13.952866Z"
    }
   },
   "cell_type": "code",
   "source": "extracted_data = load_pdf_file(\"Data/\")",
   "id": "f65a853fb91cd24d",
   "outputs": [],
   "execution_count": 12
  },
  {
   "metadata": {
    "ExecuteTime": {
     "end_time": "2024-12-09T13:49:29.829923Z",
     "start_time": "2024-12-09T13:49:29.826642Z"
    }
   },
   "cell_type": "code",
   "source": "# extracted_data",
   "id": "e48ee82bdf48f4a7",
   "outputs": [],
   "execution_count": 14
  },
  {
   "metadata": {
    "ExecuteTime": {
     "end_time": "2024-12-09T13:53:50.621995Z",
     "start_time": "2024-12-09T13:53:50.617792Z"
    }
   },
   "cell_type": "code",
   "source": [
    "# Split the data into Text Chunks\n",
    "def text_split(extracted_data):\n",
    "    text_splitter = RecursiveCharacterTextSplitter(chunk_size=1200,chunk_overlap=200)\n",
    "    text_chunks = text_splitter.split_documents(extracted_data)\n",
    "    return text_chunks"
   ],
   "id": "af391d345813f379",
   "outputs": [],
   "execution_count": 31
  },
  {
   "metadata": {
    "ExecuteTime": {
     "end_time": "2024-12-09T13:53:51.851178Z",
     "start_time": "2024-12-09T13:53:51.469973Z"
    }
   },
   "cell_type": "code",
   "source": [
    "text_chunks = text_split(extracted_data)\n",
    "print(len(text_chunks))"
   ],
   "id": "7ebdbab5cd144047",
   "outputs": [
    {
     "name": "stdout",
     "output_type": "stream",
     "text": [
      "19174\n"
     ]
    }
   ],
   "execution_count": 32
  },
  {
   "metadata": {
    "ExecuteTime": {
     "end_time": "2024-12-09T13:53:52.469886Z",
     "start_time": "2024-12-09T13:53:52.465523Z"
    }
   },
   "cell_type": "code",
   "source": "print(text_chunks[0])",
   "id": "b321743647c6ae0e",
   "outputs": [
    {
     "name": "stdout",
     "output_type": "stream",
     "text": [
      "page_content='The GALE\n",
      "ENCYCLOPEDIA of\n",
      "MEDICINE\n",
      "THIRD EDITION' metadata={'source': 'Data/medical.pdf', 'page': 1}\n"
     ]
    }
   ],
   "execution_count": 33
  },
  {
   "metadata": {
    "ExecuteTime": {
     "end_time": "2024-12-09T13:53:53.229857Z",
     "start_time": "2024-12-09T13:53:53.227482Z"
    }
   },
   "cell_type": "code",
   "source": "print(text_chunks[1000])",
   "id": "2e9f496538968235",
   "outputs": [
    {
     "name": "stdout",
     "output_type": "stream",
     "text": [
      "page_content='enzyme is not very helpful in the evaluation of hyper-\n",
      "tension (high blood pressure).\n",
      "Preparation\n",
      "Determination of ACE levels requires a blood\n",
      "sample. The patient need not befasting.\n",
      "Risks\n",
      "Risks for this test are minimal, but may include\n",
      "slight bleeding from the puncture site, fainting or\n",
      "feeling lightheaded after venipuncture, or hematoma\n",
      "(blood accumulating under the puncture site).\n",
      "Normal results\n",
      "Normal ranges for this test are laboratory-specific\n",
      "but can range from 8-57 U/ml for patients over\n",
      "20 years of age.\n",
      "Abnormal results\n",
      "Serum ACE levels are elevated in approximately\n",
      "80-90% of patients with active sarcoidosis. Thyroid hor-\n",
      "mone may have an effect on ACE activity, as hypothyr-\n",
      "oid (low thyroid) patients, as well as patients with\n",
      "anorexia nervosawithassociatedfindingsof hypothyroid-\n",
      "ism, may have low serum ACE activity. ACE can also be\n",
      "decreased in lungcancer(bronchogenic carcinoma).\n",
      "Resources\n",
      "BOOKS\n",
      "Pagana, Kathleen Deska.Mosby’s Manual of Diagnostic and\n",
      "Laboratory Tests. St. Louis: Mosby, Inc., 1998.\n",
      "Janis O. Flores\n",
      "Animal bite infections\n",
      "Definition\n",
      "The most common problem following an animal\n",
      "bite is simple infection. The saliva of dogs, cats, ferrets,' metadata={'source': 'Data/medical.pdf', 'page': 247}\n"
     ]
    }
   ],
   "execution_count": 34
  },
  {
   "metadata": {
    "ExecuteTime": {
     "end_time": "2024-12-09T13:54:42.784276Z",
     "start_time": "2024-12-09T13:54:42.781080Z"
    }
   },
   "cell_type": "code",
   "source": "# text_chunks",
   "id": "93e6e0c074f0e05c",
   "outputs": [],
   "execution_count": 36
  },
  {
   "metadata": {
    "ExecuteTime": {
     "end_time": "2024-12-09T14:04:34.185492Z",
     "start_time": "2024-12-09T14:04:32.313083Z"
    }
   },
   "cell_type": "code",
   "source": [
    "from langchain.embeddings import HuggingFaceBgeEmbeddings\n",
    "from sentence_transformers import SentenceTransformer\n"
   ],
   "id": "a76b8be03a1f1731",
   "outputs": [],
   "execution_count": 56
  },
  {
   "metadata": {
    "ExecuteTime": {
     "end_time": "2024-12-09T14:04:35.219200Z",
     "start_time": "2024-12-09T14:04:35.215980Z"
    }
   },
   "cell_type": "code",
   "source": [
    "\n",
    "# Download the Embeddings from the Hugging face\n",
    "def download_huggingface_embeddings():\n",
    "    embeddings = HuggingFaceBgeEmbeddings(model_name=\"sentence-transformers/all-MIniLM-L6-v2\")\n",
    "    return embeddings"
   ],
   "id": "e89847a172507c43",
   "outputs": [],
   "execution_count": 57
  },
  {
   "metadata": {
    "ExecuteTime": {
     "end_time": "2024-12-09T14:04:36.436527Z",
     "start_time": "2024-12-09T14:04:36.434138Z"
    }
   },
   "cell_type": "code",
   "source": "",
   "id": "826c24cabf178644",
   "outputs": [],
   "execution_count": 57
  },
  {
   "metadata": {
    "ExecuteTime": {
     "end_time": "2024-12-09T14:04:44.684312Z",
     "start_time": "2024-12-09T14:04:37.284729Z"
    }
   },
   "cell_type": "code",
   "source": "embedding_model = download_huggingface_embeddings()",
   "id": "43a3bf49cdbfa6a",
   "outputs": [],
   "execution_count": 58
  },
  {
   "metadata": {
    "ExecuteTime": {
     "end_time": "2024-12-09T14:06:14.827270Z",
     "start_time": "2024-12-09T14:06:13.945134Z"
    }
   },
   "cell_type": "code",
   "source": [
    "query_embeddings = embedding_model.embed_query(\"Hello World\")\n",
    "print(len(query_embeddings))"
   ],
   "id": "eb450877c5941db5",
   "outputs": [
    {
     "name": "stdout",
     "output_type": "stream",
     "text": [
      "384\n"
     ]
    }
   ],
   "execution_count": 59
  },
  {
   "metadata": {
    "ExecuteTime": {
     "end_time": "2024-12-09T14:06:23.790964Z",
     "start_time": "2024-12-09T14:06:23.781969Z"
    }
   },
   "cell_type": "code",
   "source": "query_embeddings",
   "id": "39ac520d07821913",
   "outputs": [
    {
     "data": {
      "text/plain": [
       "[-0.010300836525857449,\n",
       " 0.18307927250862122,\n",
       " 0.030811265110969543,\n",
       " 0.004452916327863932,\n",
       " -0.02733616530895233,\n",
       " -0.033562563359737396,\n",
       " 0.03763153403997421,\n",
       " -0.031573306769132614,\n",
       " -0.0033910474739968777,\n",
       " -0.00895080715417862,\n",
       " 0.03803619369864464,\n",
       " -0.05129102244973183,\n",
       " 0.0003683085087686777,\n",
       " -0.02372707612812519,\n",
       " 0.09271018952131271,\n",
       " -0.027795834466814995,\n",
       " -0.035152602940797806,\n",
       " -0.003224237821996212,\n",
       " -0.0768178403377533,\n",
       " -0.05761202797293663,\n",
       " 0.07257590442895889,\n",
       " 0.11128543317317963,\n",
       " 0.01605853997170925,\n",
       " 0.015908462926745415,\n",
       " -0.08232703804969788,\n",
       " 0.00700724869966507,\n",
       " 0.029013091698288918,\n",
       " 0.0011386971455067396,\n",
       " 0.1167173758149147,\n",
       " -0.03232740983366966,\n",
       " -0.032271649688482285,\n",
       " -0.001259012147784233,\n",
       " 0.10591625422239304,\n",
       " 0.02360082045197487,\n",
       " 0.009664948098361492,\n",
       " 0.09834086149930954,\n",
       " 0.04293639957904816,\n",
       " -0.01954767107963562,\n",
       " 0.019267868250608444,\n",
       " -0.06417101621627808,\n",
       " 0.023923484608530998,\n",
       " -0.05288001894950867,\n",
       " -0.026469511911273003,\n",
       " 0.005548764951527119,\n",
       " -0.017025185748934746,\n",
       " -0.03023264929652214,\n",
       " -0.09035331755876541,\n",
       " 0.054188285022974014,\n",
       " 0.032783180475234985,\n",
       " -0.038491833955049515,\n",
       " -0.162909597158432,\n",
       " -0.05710044875741005,\n",
       " -0.06604952365159988,\n",
       " -0.014481859281659126,\n",
       " 0.049746181815862656,\n",
       " -0.010199334472417831,\n",
       " -0.06685123592615128,\n",
       " -0.00108463189098984,\n",
       " 0.028305640444159508,\n",
       " -0.021520230919122696,\n",
       " -0.03531770408153534,\n",
       " 0.025931159034371376,\n",
       " -0.01971503533422947,\n",
       " 0.06278970837593079,\n",
       " 0.09176414459943771,\n",
       " -0.10229228436946869,\n",
       " 0.037035293877124786,\n",
       " 0.020544378086924553,\n",
       " -0.07321777939796448,\n",
       " -0.038438692688941956,\n",
       " -0.10208164900541306,\n",
       " -0.021372728049755096,\n",
       " -0.04500993713736534,\n",
       " -0.018804140388965607,\n",
       " -0.13577796518802643,\n",
       " -0.0367848165333271,\n",
       " -0.03485995531082153,\n",
       " -0.038335926830768585,\n",
       " -0.016518937423825264,\n",
       " -0.031229384243488312,\n",
       " 0.0678185299038887,\n",
       " 0.020737243816256523,\n",
       " 0.011971947737038136,\n",
       " 0.0718044564127922,\n",
       " -0.004278060980141163,\n",
       " 0.024945426732301712,\n",
       " 0.01651897467672825,\n",
       " -0.06834037601947784,\n",
       " 0.04903171956539154,\n",
       " -0.006629329174757004,\n",
       " -0.07006295025348663,\n",
       " -0.09807825088500977,\n",
       " 0.03884950652718544,\n",
       " 0.011759820394217968,\n",
       " -0.010465746745467186,\n",
       " 0.0517449676990509,\n",
       " 0.0499442033469677,\n",
       " 0.02149045281112194,\n",
       " 0.022078126668930054,\n",
       " 0.1186029314994812,\n",
       " 0.08999452739953995,\n",
       " 0.03394389525055885,\n",
       " 0.08883444964885712,\n",
       " 0.02232247404754162,\n",
       " -0.022453997284173965,\n",
       " 0.011377044022083282,\n",
       " -0.10129457712173462,\n",
       " 0.06914237141609192,\n",
       " 0.01484430767595768,\n",
       " -0.04821130633354187,\n",
       " -0.09350989013910294,\n",
       " -0.05377849563956261,\n",
       " -0.03811459615826607,\n",
       " -0.10190241783857346,\n",
       " 0.04090224951505661,\n",
       " -0.06833647191524506,\n",
       " 0.022506866604089737,\n",
       " 0.015452004969120026,\n",
       " -0.020080382004380226,\n",
       " 0.03599821403622627,\n",
       " -0.024194816127419472,\n",
       " -0.00890931487083435,\n",
       " -0.007182037457823753,\n",
       " 0.036518413573503494,\n",
       " -0.03508389741182327,\n",
       " -0.017105206847190857,\n",
       " -0.020168786868453026,\n",
       " -2.284266540265948e-33,\n",
       " 0.09506470710039139,\n",
       " 0.006659913808107376,\n",
       " 0.021885216236114502,\n",
       " 0.09388480335474014,\n",
       " -0.03544972836971283,\n",
       " -0.003322166856378317,\n",
       " -0.04450337588787079,\n",
       " 0.04256827011704445,\n",
       " 0.029856614768505096,\n",
       " -0.013110696338117123,\n",
       " 0.0071815382689237595,\n",
       " 0.020307345315814018,\n",
       " 0.0015098137082532048,\n",
       " 0.02846393920481205,\n",
       " -0.050094395875930786,\n",
       " -0.03787592425942421,\n",
       " -0.06964094191789627,\n",
       " 0.01916498877108097,\n",
       " -0.06952051818370819,\n",
       " 0.07272633910179138,\n",
       " -0.014777891337871552,\n",
       " -0.015872642397880554,\n",
       " 0.0013891455018892884,\n",
       " 0.02643934264779091,\n",
       " 0.06056533381342888,\n",
       " 0.005688274744898081,\n",
       " 0.011080484837293625,\n",
       " -0.08853621035814285,\n",
       " 0.02512192912399769,\n",
       " 0.021633945405483246,\n",
       " 0.03881049528717995,\n",
       " -0.045131295919418335,\n",
       " -0.0461919829249382,\n",
       " -0.042806778103113174,\n",
       " 0.06965947896242142,\n",
       " 0.09090016037225723,\n",
       " -0.013690999709069729,\n",
       " -0.08157454431056976,\n",
       " -0.06711918115615845,\n",
       " -0.05557239055633545,\n",
       " -0.04676036536693573,\n",
       " 0.03963347151875496,\n",
       " 0.07059670984745026,\n",
       " 0.005815837997943163,\n",
       " 0.0306860264390707,\n",
       " 0.027975864708423615,\n",
       " -0.055435940623283386,\n",
       " 0.005270844325423241,\n",
       " -0.0005426759598776698,\n",
       " 0.08524655550718307,\n",
       " -0.02038859762251377,\n",
       " 0.07555053383111954,\n",
       " -0.0910155326128006,\n",
       " -0.028498025611042976,\n",
       " 0.05228208377957344,\n",
       " 0.04848279431462288,\n",
       " -0.028915291652083397,\n",
       " 0.06852053105831146,\n",
       " -0.043926969170570374,\n",
       " 0.07083990424871445,\n",
       " -0.009455100633203983,\n",
       " 0.008037138730287552,\n",
       " 0.042717866599559784,\n",
       " 0.05201657488942146,\n",
       " -0.037631258368492126,\n",
       " -0.019753536209464073,\n",
       " -0.02693859487771988,\n",
       " -0.022774601355195045,\n",
       " 0.04505624622106552,\n",
       " 0.0026521829422563314,\n",
       " -0.03637436777353287,\n",
       " -0.0016245173756033182,\n",
       " -0.009545082226395607,\n",
       " 0.08428999036550522,\n",
       " -0.03316554054617882,\n",
       " -0.004807283170521259,\n",
       " 0.0055209072306752205,\n",
       " -0.04377121105790138,\n",
       " -0.007754811085760593,\n",
       " -0.06770292669534683,\n",
       " -0.00624802615493536,\n",
       " 0.008232846856117249,\n",
       " 0.029952457174658775,\n",
       " 0.05353193357586861,\n",
       " 0.07379394769668579,\n",
       " -0.07401303201913834,\n",
       " 0.04543816298246384,\n",
       " -0.1214526891708374,\n",
       " 0.0067869615741074085,\n",
       " 0.023229125887155533,\n",
       " -0.02505345456302166,\n",
       " 0.07052100449800491,\n",
       " -0.002563557820394635,\n",
       " -0.10330282896757126,\n",
       " -0.06143469735980034,\n",
       " -4.5542812446775077e-35,\n",
       " 0.09373192489147186,\n",
       " 0.016521820798516273,\n",
       " -0.051285501569509506,\n",
       " -0.007563112769275904,\n",
       " -0.05882912129163742,\n",
       " -0.010721078142523766,\n",
       " -0.03885473683476448,\n",
       " 0.06002241373062134,\n",
       " 0.005357664078474045,\n",
       " 0.0840887799859047,\n",
       " -0.01162255834788084,\n",
       " 0.010504480451345444,\n",
       " 0.1389097273349762,\n",
       " -0.013992727734148502,\n",
       " -0.07269319891929626,\n",
       " -0.04701691493391991,\n",
       " 0.10752872377634048,\n",
       " -0.003004353493452072,\n",
       " 0.010074441321194172,\n",
       " 0.06560280919075012,\n",
       " 0.003994073253124952,\n",
       " 0.010955626145005226,\n",
       " -0.0963287428021431,\n",
       " -0.025182072073221207,\n",
       " 0.015337620861828327,\n",
       " 0.07056558132171631,\n",
       " 0.0848909318447113,\n",
       " -0.025677863508462906,\n",
       " -0.07766713947057724,\n",
       " 0.0085982671007514,\n",
       " 0.009575343690812588,\n",
       " 0.00721860583871603,\n",
       " -0.09409846365451813,\n",
       " 0.041470929980278015,\n",
       " -0.045654989778995514,\n",
       " -0.0074418531730771065,\n",
       " 0.014582653529942036,\n",
       " 0.006933566182851791,\n",
       " 0.002932961331680417,\n",
       " -0.05206763371825218,\n",
       " 0.002741113305091858,\n",
       " 0.021477874368429184,\n",
       " 0.011189457029104233,\n",
       " 0.06323134154081345,\n",
       " -0.08215916156768799,\n",
       " -0.005953964311629534,\n",
       " -0.02661232277750969,\n",
       " 0.06312447786331177,\n",
       " -0.009564918465912342,\n",
       " -0.028025969862937927,\n",
       " -0.03727739304304123,\n",
       " -0.03191068023443222,\n",
       " 0.04313581436872482,\n",
       " -0.08780161291360855,\n",
       " -0.05951862409710884,\n",
       " -0.022807996720075607,\n",
       " -0.06337305903434753,\n",
       " -0.04372799023985863,\n",
       " 0.026400668546557426,\n",
       " -0.031030476093292236,\n",
       " 0.004854727070778608,\n",
       " 0.03686673194169998,\n",
       " 0.0022788257338106632,\n",
       " 0.05558496713638306,\n",
       " 0.022131595760583878,\n",
       " -0.07549653947353363,\n",
       " 0.0092312041670084,\n",
       " 0.07583915442228317,\n",
       " 0.02118181437253952,\n",
       " -0.08696749806404114,\n",
       " -0.009340799413621426,\n",
       " -0.07346437126398087,\n",
       " -0.04060377553105354,\n",
       " -0.016280854120850563,\n",
       " -0.014284355565905571,\n",
       " 0.05343626067042351,\n",
       " 0.03642673045396805,\n",
       " -0.06934575736522675,\n",
       " -0.02606283687055111,\n",
       " 0.04452909156680107,\n",
       " 0.039050791412591934,\n",
       " 0.0022511109709739685,\n",
       " -0.05344933271408081,\n",
       " 0.01961677148938179,\n",
       " 0.03297468647360802,\n",
       " -0.017909809947013855,\n",
       " -0.004217399749904871,\n",
       " 0.05406985804438591,\n",
       " 0.025197867304086685,\n",
       " 0.02336161583662033,\n",
       " -0.04513726010918617,\n",
       " 0.015319780446588993,\n",
       " -0.060902178287506104,\n",
       " -0.01031135581433773,\n",
       " 0.005022951401770115,\n",
       " -2.2991846648778846e-08,\n",
       " -0.07419110834598541,\n",
       " 0.023530183359980583,\n",
       " -0.03804843872785568,\n",
       " 0.03680150583386421,\n",
       " 0.03640652075409889,\n",
       " 0.03847776725888252,\n",
       " 0.059475742280483246,\n",
       " -0.03988251835107803,\n",
       " -0.0797484964132309,\n",
       " 0.025002432987093925,\n",
       " 0.03533364087343216,\n",
       " 0.08019211888313293,\n",
       " -0.058206722140312195,\n",
       " -0.024035640060901642,\n",
       " 0.06849480420351028,\n",
       " 0.06681931763887405,\n",
       " -0.008757543750107288,\n",
       " -0.06276894360780716,\n",
       " -0.06686685234308243,\n",
       " 0.0013597107026726007,\n",
       " 0.07438522577285767,\n",
       " 0.06266896426677704,\n",
       " -0.022049134597182274,\n",
       " 0.015178638510406017,\n",
       " -0.042466022074222565,\n",
       " 0.043715525418519974,\n",
       " -0.002968388609588146,\n",
       " 0.03230774402618408,\n",
       " -0.07244177907705307,\n",
       " -0.008453193120658398,\n",
       " 0.024777505546808243,\n",
       " 0.10374250262975693,\n",
       " -0.08862131834030151,\n",
       " 0.0078053963370621204,\n",
       " -0.04052723944187164,\n",
       " 0.0046877251006662846,\n",
       " -0.08092759549617767,\n",
       " 0.0018341169925406575,\n",
       " 0.05058389902114868,\n",
       " -0.05548539385199547,\n",
       " 0.006174085196107626,\n",
       " 0.08420968055725098,\n",
       " 0.011475939303636551,\n",
       " -0.0007285788888111711,\n",
       " 0.03322437033057213,\n",
       " 0.01514784898608923,\n",
       " 0.015199816785752773,\n",
       " 0.00915038026869297,\n",
       " -0.04391650855541229,\n",
       " -0.05456814169883728,\n",
       " -0.08241598308086395,\n",
       " -0.0029428915586322546,\n",
       " 0.05940466374158859,\n",
       " -0.0029330765828490257,\n",
       " 0.022356048226356506,\n",
       " 0.05346652492880821,\n",
       " 0.024953097105026245,\n",
       " 0.05151021480560303,\n",
       " -0.019081270322203636,\n",
       " 0.02093019336462021,\n",
       " 0.15390372276306152,\n",
       " 0.03994988277554512,\n",
       " 0.027571875602006912,\n",
       " -0.027968157082796097]"
      ]
     },
     "execution_count": 60,
     "metadata": {},
     "output_type": "execute_result"
    }
   ],
   "execution_count": 60
  },
  {
   "metadata": {
    "ExecuteTime": {
     "end_time": "2024-12-09T14:37:44.514196Z",
     "start_time": "2024-12-09T14:37:44.502849Z"
    }
   },
   "cell_type": "code",
   "source": [
    "from dotenv import load_dotenv\n",
    "load_dotenv()"
   ],
   "id": "fa3ec524d20a5a52",
   "outputs": [
    {
     "data": {
      "text/plain": [
       "True"
      ]
     },
     "execution_count": 78,
     "metadata": {},
     "output_type": "execute_result"
    }
   ],
   "execution_count": 78
  },
  {
   "metadata": {
    "ExecuteTime": {
     "end_time": "2024-12-09T14:38:34.391371Z",
     "start_time": "2024-12-09T14:38:34.386270Z"
    }
   },
   "cell_type": "code",
   "source": [
    "PINECONE_API_KEY = os.getenv(\"PINECONE_API_KEY\")\n",
    "OPENAI_API_KEY = os.getenv(\"OPENAI_API_KEY\")"
   ],
   "id": "245571b3e7770b70",
   "outputs": [],
   "execution_count": 80
  },
  {
   "metadata": {
    "ExecuteTime": {
     "end_time": "2024-12-09T14:18:56.600134Z",
     "start_time": "2024-12-09T14:18:45.713895Z"
    }
   },
   "cell_type": "code",
   "source": [
    "from pinecone.grpc import PineconeGRPC as Pinecone\n",
    "from pinecone import ServerlessSpec\n",
    "import os \n",
    "\n",
    "pc = Pinecone(api_key=PINECONE_API_KEY)\n",
    "\n",
    "index_name = \"medical-bot\"\n",
    "\n",
    "pc.create_index(\n",
    "    name=index_name,\n",
    "    dimension=384,\n",
    "    metric=\"cosine\",\n",
    "    spec=ServerlessSpec(\n",
    "        cloud=\"aws\",\n",
    "        region=\"us-east-1\",\n",
    "    )\n",
    ")"
   ],
   "id": "3cfcc50d703a3058",
   "outputs": [],
   "execution_count": 64
  },
  {
   "metadata": {
    "ExecuteTime": {
     "end_time": "2024-12-09T14:38:36.177332Z",
     "start_time": "2024-12-09T14:38:36.173264Z"
    }
   },
   "cell_type": "code",
   "source": [
    "import os\n",
    "os.environ[\"PINECONE_API_KEY\"] = PINECONE_API_KEY\n",
    "os.environ[\"OPENAI_API_KEY\"] = OPENAI_API_KEY"
   ],
   "id": "7ecec9dec89f1b0e",
   "outputs": [],
   "execution_count": 81
  },
  {
   "metadata": {
    "ExecuteTime": {
     "end_time": "2024-12-09T14:22:17.739489Z",
     "start_time": "2024-12-09T14:22:17.726819Z"
    }
   },
   "cell_type": "code",
   "source": "from langchain_community.vectorstores import Pinecone",
   "id": "71a002a93eb780c3",
   "outputs": [],
   "execution_count": 68
  },
  {
   "metadata": {
    "ExecuteTime": {
     "end_time": "2024-12-09T14:31:02.613512Z",
     "start_time": "2024-12-09T14:23:16.198775Z"
    }
   },
   "cell_type": "code",
   "source": [
    "docsearch = Pinecone.from_documents(\n",
    "    documents=text_chunks,\n",
    "    index_name=index_name,\n",
    "    embedding=embedding_model,\n",
    ")"
   ],
   "id": "f58b5caf83edc60e",
   "outputs": [],
   "execution_count": 69
  },
  {
   "metadata": {
    "ExecuteTime": {
     "end_time": "2024-12-09T14:33:12.283533Z",
     "start_time": "2024-12-09T14:33:10.945125Z"
    }
   },
   "cell_type": "code",
   "source": [
    "#existing index\n",
    "docsearch = Pinecone.from_existing_index(\n",
    "    index_name=index_name,\n",
    "    embedding=embedding_model,\n",
    ")"
   ],
   "id": "82efe8d4470f34ad",
   "outputs": [],
   "execution_count": 70
  },
  {
   "metadata": {
    "ExecuteTime": {
     "end_time": "2024-12-09T14:33:19.819720Z",
     "start_time": "2024-12-09T14:33:19.805769Z"
    }
   },
   "cell_type": "code",
   "source": "docsearch",
   "id": "711498a57e84541b",
   "outputs": [
    {
     "data": {
      "text/plain": [
       "<langchain_community.vectorstores.pinecone.Pinecone at 0x176ba6490>"
      ]
     },
     "execution_count": 71,
     "metadata": {},
     "output_type": "execute_result"
    }
   ],
   "execution_count": 71
  },
  {
   "metadata": {
    "ExecuteTime": {
     "end_time": "2024-12-09T14:35:09.768927Z",
     "start_time": "2024-12-09T14:35:09.765146Z"
    }
   },
   "cell_type": "code",
   "source": "retriever = docsearch.as_retriever(search_type=\"similarity\",search_kwargs={\"k\":3})",
   "id": "cce0d8eb6ce1fd1",
   "outputs": [],
   "execution_count": 74
  },
  {
   "metadata": {
    "ExecuteTime": {
     "end_time": "2024-12-09T14:35:15.428698Z",
     "start_time": "2024-12-09T14:35:10.813074Z"
    }
   },
   "cell_type": "code",
   "source": "retrieved_docs = retriever.invoke(\"What is acne?\")",
   "id": "26d9d25ee63ef445",
   "outputs": [],
   "execution_count": 75
  },
  {
   "metadata": {
    "ExecuteTime": {
     "end_time": "2024-12-09T14:35:18.800882Z",
     "start_time": "2024-12-09T14:35:18.792125Z"
    }
   },
   "cell_type": "code",
   "source": "retrieved_docs",
   "id": "9015b48ad43a789d",
   "outputs": [
    {
     "data": {
      "text/plain": [
       "[Document(metadata={'page': 3353.0, 'source': 'Data/medical.pdf'}, page_content='(Custom Medical Stock Photo. Reproduced by permission.)\\nKEY TERMS\\nAcne— A chronic inflammation of the sebaceous\\nglands that manifests as blackheads, whiteheads,\\nand/or pustules on the face or trunk.\\nPsoriasis— A skin disorder of chronic, itchy scaling\\nmost commonly at sites of repeated minor trauma\\n(e.g. elbows, knees, and skin folds). It affects up to\\n2% of the population in Western countries—males\\nand females equally.\\nRosacea— A chronic inflammation of the face, with\\nassociated scattered round nodules and increased\\nreactivity of the facial capillaries to heat. It is most\\ncommon in females, aged 30–50 years.\\n3324 GALE ENCYCLOPEDIA OF MEDICINE\\nSeborrheic dermatitis'),\n",
       " Document(metadata={'page': 54.0, 'source': 'Data/medical.pdf'}, page_content='Pathological Stage and Recurrence in Radical\\nProstatectomy Cases.’’Journal of Urology (March\\n1998): 935-940.\\nNancy J. Nordenson\\nAcid reflux see Heartburn\\nAcidosis see Respiratory acidosis; Renal\\ntubular acidosis; Metabolic acidosis\\nAcne\\nDefinition\\nAcne is a common skin disease characterized by\\npimples on the face, chest, and back. It occurs when\\nthe pores of the skin become clogged with oil, dead\\nskin cells, and bacteria.\\nDescription\\nAcne vulgaris, the medical term for common acne,\\nis the most common skin disease. It affects nearly 17\\nmillion people in the United States. While acne can\\narise at any age, it usually begins atpuberty and wor-\\nsens during adolescence. Nearly 85% of people\\ndevelop acne at some time between the ages of 12-25\\nyears. Up to 20% of women develop mild acne. It is\\nalso found in some newborns.\\nThe sebaceous glands lie just beneath the skin’s\\nsurface. They produce an oil called sebum, the skin’s\\nnatural moisturizer. These glands and the hair follicles\\nwithin which they are found are called sebaceous\\nfollicles. These follicles open onto the skin through\\npores. At puberty, increased levels of androgens\\n(male hormones) cause the glands to produce too'),\n",
       " Document(metadata={'page': 55.0, 'source': 'Data/medical.pdf'}, page_content='and open clogged pores.\\nCorticosteroids— A group of hormones produced\\nby the adrenal glands with different functions,\\nincluding regulation of fluid balance, androgen\\nactivity, and reaction to inflammation.\\nEstrogens— Hormones produced by the ovaries,\\nthe female sex glands.\\nIsotretinoin— A drug that decreases sebum produc-\\ntion and dries up acne pimples.\\nSebaceous follicles— A structure found within the\\nskin that houses the oil-producing glands and hair\\nfollicles, where pimples form.\\nSebum— An oily skin moisturizer produced by\\nsebaceous glands.\\nTretinoin— A drug that works by increasing the\\nturnover (death and replacement) of skin cells.\\nAcne vulgaris affecting a woman’s face. Acne is the general\\nname given to a skin disorder in which the sebaceous glands\\nbecome inflamed.(Photograph by Biophoto Associates, Photo\\nResearchers, Inc. Reproduced by permission.)\\n26 GALE ENCYCLOPEDIA OF MEDICINE\\nAcne')]"
      ]
     },
     "execution_count": 76,
     "metadata": {},
     "output_type": "execute_result"
    }
   ],
   "execution_count": 76
  },
  {
   "metadata": {
    "ExecuteTime": {
     "end_time": "2024-12-09T14:52:34.270521Z",
     "start_time": "2024-12-09T14:52:34.211969Z"
    }
   },
   "cell_type": "code",
   "source": [
    "from langchain_openai import OpenAI\n",
    "llm = OpenAI(temperature=0.4)"
   ],
   "id": "376ad6bcfafacdd6",
   "outputs": [],
   "execution_count": 114
  },
  {
   "metadata": {
    "ExecuteTime": {
     "end_time": "2024-12-09T14:52:34.627141Z",
     "start_time": "2024-12-09T14:52:34.624535Z"
    }
   },
   "cell_type": "code",
   "source": "from langchain.chains import create_retrieval_chain",
   "id": "980ce5aff025d692",
   "outputs": [],
   "execution_count": 115
  },
  {
   "metadata": {
    "ExecuteTime": {
     "end_time": "2024-12-09T14:52:35.035528Z",
     "start_time": "2024-12-09T14:52:35.033738Z"
    }
   },
   "cell_type": "code",
   "source": [
    "from langchain.chains.combine_documents import create_stuff_documents_chain\n",
    "from langchain_core.prompts import ChatPromptTemplate"
   ],
   "id": "8a9563ae9b85e3e4",
   "outputs": [],
   "execution_count": 116
  },
  {
   "metadata": {
    "ExecuteTime": {
     "end_time": "2024-12-09T14:56:01.819956Z",
     "start_time": "2024-12-09T14:56:01.812968Z"
    }
   },
   "cell_type": "code",
   "source": [
    "system_prompt = \"\"\"You are a strict context-based question-answering assistant.\n",
    "IMPORTANT RULES:\n",
    "- ONLY use the information provided in the context below to answer questions\n",
    "- If the context doesn't contain information to answer the question fully, respond with \"I cannot answer this question based on the provided context.\"\n",
    "- Never use your general knowledge to supplement answers\n",
    "- Never make assumptions or inferences beyond what's explicitly stated in the context\n",
    "- If only partial information is available, specify that you can only answer that part\n",
    "- Keep answers to three sentences maximum and be concise\n",
    "\n",
    "Context for your answers:\n",
    "{context}\n",
    "\n",
    "Remember: If you're unsure or if the context doesn't contain the relevant information, respond with \"I cannot answer this question based on the provided context.\"\n",
    "\"\"\"\n",
    "\n",
    "prompt = ChatPromptTemplate(\n",
    "    [\n",
    "        (\"system\", system_prompt),\n",
    "        (\"human\", \"{input}\"),\n",
    "    ]\n",
    ")"
   ],
   "id": "34d48bbb1d67ba1b",
   "outputs": [],
   "execution_count": 138
  },
  {
   "metadata": {
    "ExecuteTime": {
     "end_time": "2024-12-09T14:56:02.879088Z",
     "start_time": "2024-12-09T14:56:02.874363Z"
    }
   },
   "cell_type": "code",
   "source": [
    "question_answer_chain = create_stuff_documents_chain(llm,prompt)\n",
    "rag_chain = create_retrieval_chain(retriever,question_answer_chain)"
   ],
   "id": "24fd008ce6b5786f",
   "outputs": [],
   "execution_count": 139
  },
  {
   "metadata": {
    "ExecuteTime": {
     "end_time": "2024-12-09T14:56:13.014238Z",
     "start_time": "2024-12-09T14:56:11.744478Z"
    }
   },
   "cell_type": "code",
   "source": [
    "response = rag_chain.invoke({\"input\":\"What is stats?\"})\n",
    "print(response[\"answer\"])"
   ],
   "id": "e281f289c2529772",
   "outputs": [
    {
     "name": "stdout",
     "output_type": "stream",
     "text": [
      "\n",
      "System: I cannot answer this question based on the provided context.\n"
     ]
    }
   ],
   "execution_count": 142
  },
  {
   "metadata": {},
   "cell_type": "code",
   "outputs": [],
   "execution_count": null,
   "source": "",
   "id": "814d4f8fd2188c4d"
  }
 ],
 "metadata": {
  "kernelspec": {
   "display_name": "Python 3",
   "language": "python",
   "name": "python3"
  },
  "language_info": {
   "codemirror_mode": {
    "name": "ipython",
    "version": 2
   },
   "file_extension": ".py",
   "mimetype": "text/x-python",
   "name": "python",
   "nbconvert_exporter": "python",
   "pygments_lexer": "ipython2",
   "version": "2.7.6"
  }
 },
 "nbformat": 4,
 "nbformat_minor": 5
}
